{
 "cells": [
  {
   "cell_type": "markdown",
   "id": "084f4d51",
   "metadata": {},
   "source": [
    "# Hello world~\n",
    "## This is yongbin.\n",
    "##### ML is fun!~\n",
    "\n",
    "this is a paragraph.\n",
    "\n"
   ]
  },
  {
   "cell_type": "markdown",
   "id": "524db3e4",
   "metadata": {},
   "source": [
    " Someone like *you*. Someone who'll rattle the cages. Swear to me! I can't do that as Bruce Wayne... as a man. I'm flesh and blood. I can be ignored, destroyed. But as a symbol, I can be incorruptible, I can be everlasting.\n",
    "\n",
    " I'm not wearing hockey pads. I'll be standing where l belong. Between you and the peopIe of Gotham. Well, you see... I'm buying this hotel and setting some [new rules](http://) about the pool area.\n",
    "\n",
    " I will go back to Gotham and I will fight men Iike this but I will not become an executioner. Hero can be anyone. Even a man knowing something as simple and reassuring as putting a coat around a young boy shoulders to let him know the world hadn't ended.\n",
    "\n",
    "1.  Accomplice? \n",
    "1. I'm gonna\n",
    "-tell \n",
    "-them \n",
    "*the \n",
    "*whole \n",
    "\n",
    "---\n",
    "\n",
    "*thing was your idea. Bats frighten me. It's time my enemies shared my dread. The first time I stole so that I wouldn't starve, yes. I lost many assumptions about the simple nature of right and wrong. And when I traveled I learned the fear before a crime and the thrill of success. But I never became one of them.\n",
    "\n"
   ]
  },
  {
   "cell_type": "markdown",
   "id": "ed7ee9ac",
   "metadata": {},
   "source": []
  }
 ],
 "metadata": {
  "language_info": {
   "name": "python"
  }
 },
 "nbformat": 4,
 "nbformat_minor": 5
}
